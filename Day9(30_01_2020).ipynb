{
  "nbformat": 4,
  "nbformat_minor": 0,
  "metadata": {
    "colab": {
      "name": "Day9(30-01-2020).ipynb",
      "provenance": [],
      "authorship_tag": "ABX9TyN6gzUg64W9/v5qAHsNL86B",
      "include_colab_link": true
    },
    "kernelspec": {
      "name": "python3",
      "display_name": "Python 3"
    }
  },
  "cells": [
    {
      "cell_type": "markdown",
      "metadata": {
        "id": "view-in-github",
        "colab_type": "text"
      },
      "source": [
        "<a href=\"https://colab.research.google.com/github/1713BhaskarDasari/jntua/blob/master/Day9(30_01_2020).ipynb\" target=\"_parent\"><img src=\"https://colab.research.google.com/assets/colab-badge.svg\" alt=\"Open In Colab\"/></a>"
      ]
    },
    {
      "cell_type": "code",
      "metadata": {
        "id": "LFSn_DVI8iXR",
        "colab_type": "code",
        "colab": {}
      },
      "source": [
        ""
      ],
      "execution_count": 0,
      "outputs": []
    },
    {
      "cell_type": "markdown",
      "metadata": {
        "id": "MsysIJPh-MF1",
        "colab_type": "text"
      },
      "source": [
        "#Mark Down\n",
        "## Mark Down\n",
        "### Mark Down\n",
        "####Mark Down\n",
        "#####Mark Down\n"
      ]
    },
    {
      "cell_type": "code",
      "metadata": {
        "id": "nAUGTkfX-3ip",
        "colab_type": "code",
        "colab": {}
      },
      "source": [
        ""
      ],
      "execution_count": 0,
      "outputs": []
    },
    {
      "cell_type": "markdown",
      "metadata": {
        "id": "ohn48YjS_HkI",
        "colab_type": "text"
      },
      "source": [
        ""
      ]
    },
    {
      "cell_type": "markdown",
      "metadata": {
        "id": "clb2Kwfu_QiA",
        "colab_type": "text"
      },
      "source": [
        "**Points**\n",
        "\n",
        "*points*\n",
        "\n",
        "***Points***"
      ]
    },
    {
      "cell_type": "code",
      "metadata": {
        "id": "7JEkGnAFAF5Q",
        "colab_type": "code",
        "colab": {}
      },
      "source": [
        ""
      ],
      "execution_count": 0,
      "outputs": []
    },
    {
      "cell_type": "code",
      "metadata": {
        "id": "Zvigubq_AHdw",
        "colab_type": "code",
        "colab": {}
      },
      "source": [
        ""
      ],
      "execution_count": 0,
      "outputs": []
    },
    {
      "cell_type": "code",
      "metadata": {
        "id": "npwX0ItYAIFR",
        "colab_type": "code",
        "colab": {
          "base_uri": "https://localhost:8080/",
          "height": 51
        },
        "outputId": "2e42ddc9-5b0f-4117-831b-c24f4d48447a"
      },
      "source": [
        "print(\"hello,jntua\")\n",
        "print(\"hello,Jntua\",\"|||\",\"CHemical\",\"|||\",\"CSE\",\"|||\",\"MCA\")\n"
      ],
      "execution_count": 1,
      "outputs": [
        {
          "output_type": "stream",
          "text": [
            "hello,jntua\n",
            "hello,Jntua ||| CHemical ||| CSE ||| MCA\n"
          ],
          "name": "stdout"
        }
      ]
    },
    {
      "cell_type": "markdown",
      "metadata": {
        "id": "UrVFA-qqK8o5",
        "colab_type": "text"
      },
      "source": [
        "#ASSIGNMENT\n"
      ]
    },
    {
      "cell_type": "code",
      "metadata": {
        "id": "Ch0sZjASK-5l",
        "colab_type": "code",
        "colab": {
          "base_uri": "https://localhost:8080/",
          "height": 68
        },
        "outputId": "ed99924a-5b82-427f-9c67-746dec40e1c3"
      },
      "source": [
        "n1=100 #single variable assignment\n",
        "print(n1)\n",
        "a=b=c=10 #multiple variable assigment with same value\n",
        "print(a,b,c)\n",
        "a1,b1,c1=100,200,300  #multiple variable assignment with different values\n",
        "print(a1,b1,c1)"
      ],
      "execution_count": 2,
      "outputs": [
        {
          "output_type": "stream",
          "text": [
            "100\n",
            "10 10 10\n",
            "100 200 300\n"
          ],
          "name": "stdout"
        }
      ]
    },
    {
      "cell_type": "markdown",
      "metadata": {
        "id": "U6OCcXUSL1td",
        "colab_type": "text"
      },
      "source": [
        "#Data Type and Conversions\n",
        "\n",
        "*   int\n",
        "\n",
        "*   float\n",
        "\n",
        "*   string\n",
        "\n",
        "\n",
        "\n",
        "\n",
        "\n",
        "\n",
        "\n",
        "\n",
        "\n"
      ]
    },
    {
      "cell_type": "code",
      "metadata": {
        "id": "akrwb35gL5ec",
        "colab_type": "code",
        "colab": {}
      },
      "source": [
        "a=100\n",
        "s1=10.2\n",
        "s2=\"python\"\n",
        "print(type(a),type(s1),type(s2))"
      ],
      "execution_count": 0,
      "outputs": []
    },
    {
      "cell_type": "code",
      "metadata": {
        "id": "pXEFQAUA-PA-",
        "colab_type": "code",
        "colab": {
          "base_uri": "https://localhost:8080/",
          "height": 68
        },
        "outputId": "fbdb6c56-622c-4cb0-ee09-951fb0e9ad5c"
      },
      "source": [
        "i=100\n",
        "print(type(i))\n",
        "s1=str(i)\n",
        "print(type(s1))\n",
        "f1=float(i)\n",
        "print(type(f1))\n"
      ],
      "execution_count": 4,
      "outputs": [
        {
          "output_type": "stream",
          "text": [
            "<class 'int'>\n",
            "<class 'str'>\n",
            "<class 'float'>\n"
          ],
          "name": "stdout"
        }
      ]
    },
    {
      "cell_type": "markdown",
      "metadata": {
        "id": "SckUhncEOWaN",
        "colab_type": "text"
      },
      "source": [
        "#Reading input from the user-- input function"
      ]
    },
    {
      "cell_type": "code",
      "metadata": {
        "id": "c4EXIj2VObv-",
        "colab_type": "code",
        "colab": {
          "base_uri": "https://localhost:8080/",
          "height": 85
        },
        "outputId": "0aefbcc5-5f87-43b9-bf17-f85f95610060"
      },
      "source": [
        "b=input(\" Enter ur name\")\n",
        "print(b)\n",
        "print(type(b))\n",
        "a=int(b)\n",
        "print(type(a))"
      ],
      "execution_count": 8,
      "outputs": [
        {
          "output_type": "stream",
          "text": [
            " Enter ur name15\n",
            "15\n",
            "<class 'str'>\n",
            "<class 'int'>\n"
          ],
          "name": "stdout"
        }
      ]
    },
    {
      "cell_type": "markdown",
      "metadata": {
        "id": "JVHLXbqIQarw",
        "colab_type": "text"
      },
      "source": [
        "#Arithmetic operator\n",
        "+\n",
        "\n",
        "-\n",
        "\n",
        "*\n",
        "\n",
        "/\n",
        "\n",
        "%\n",
        "\n",
        "//"
      ]
    },
    {
      "cell_type": "code",
      "metadata": {
        "id": "1Zu3nqKWQdtl",
        "colab_type": "code",
        "colab": {
          "base_uri": "https://localhost:8080/",
          "height": 153
        },
        "outputId": "038d0983-dc77-4725-9d02-0d1bc157050a"
      },
      "source": [
        "a=1234\n",
        "print(a+10) #Addition\n",
        "print(a-10) #Subtraction\n",
        "print(a*10) #Multiplication\n",
        "print(a%10) #Modulo\n",
        "print(a/10) #Division\n",
        "print(a//10) #Floor\n",
        "print(a**10) #Power\n",
        "c=8\n",
        "print(c**2)"
      ],
      "execution_count": 11,
      "outputs": [
        {
          "output_type": "stream",
          "text": [
            "1244\n",
            "1224\n",
            "12340\n",
            "4\n",
            "123.4\n",
            "123\n",
            "8187505353567209228244052427776\n",
            "64\n"
          ],
          "name": "stdout"
        }
      ]
    },
    {
      "cell_type": "markdown",
      "metadata": {
        "id": "Am08CRLNSQRE",
        "colab_type": "text"
      },
      "source": [
        "# Relational Operator\n",
        "- =\n",
        "- ==\n",
        "* >\n",
        "- <\n",
        "- !=\n",
        "- >=\n",
        "- <=\n"
      ]
    },
    {
      "cell_type": "code",
      "metadata": {
        "id": "4-WBQJ3CSvgO",
        "colab_type": "code",
        "colab": {
          "base_uri": "https://localhost:8080/",
          "height": 34
        },
        "outputId": "7c019031-2a05-4d14-d4a9-64ed26d5d813"
      },
      "source": [
        "x=10\n",
        "a1=x>15\n",
        "print(a1)\n"
      ],
      "execution_count": 12,
      "outputs": [
        {
          "output_type": "stream",
          "text": [
            "False\n"
          ],
          "name": "stdout"
        }
      ]
    },
    {
      "cell_type": "markdown",
      "metadata": {
        "id": "qXZuZIO3T6j3",
        "colab_type": "text"
      },
      "source": [
        "#Logical Operator\n",
        "- and\n",
        "- or\n",
        "- not"
      ]
    },
    {
      "cell_type": "code",
      "metadata": {
        "id": "TleWqXujUBMt",
        "colab_type": "code",
        "colab": {
          "base_uri": "https://localhost:8080/",
          "height": 34
        },
        "outputId": "28ddd420-f024-4081-95c0-3794f489d872"
      },
      "source": [
        "i=100\n",
        "a= i>15 and i<800\n",
        "a1= i>15 and i>800\n",
        "a2= i>15 or i>800\n",
        "a3= i<15 or i<800\n",
        "a4= i<15 or i>800\n",
        "l=not 10\n",
        "print(a,a1,a2,a3,a4,l)"
      ],
      "execution_count": 16,
      "outputs": [
        {
          "output_type": "stream",
          "text": [
            "True False True True False False\n"
          ],
          "name": "stdout"
        }
      ]
    },
    {
      "cell_type": "markdown",
      "metadata": {
        "id": "TPA3V20RVzqG",
        "colab_type": "text"
      },
      "source": [
        "#Control flow statements\n",
        "-conditional statements\n",
        "-looping statements\n"
      ]
    },
    {
      "cell_type": "markdown",
      "metadata": {
        "id": "Z_IudAf1V5yn",
        "colab_type": "text"
      },
      "source": [
        ""
      ]
    },
    {
      "cell_type": "code",
      "metadata": {
        "id": "hwmdp2xmV6du",
        "colab_type": "code",
        "colab": {}
      },
      "source": [
        ""
      ],
      "execution_count": 0,
      "outputs": []
    },
    {
      "cell_type": "markdown",
      "metadata": {
        "id": "_Y3H6K5TV7CP",
        "colab_type": "text"
      },
      "source": [
        "#if-else statements\n",
        "#Syntax\n",
        "#if Boolean_condition :\n",
        "Statements\n",
        "\n",
        "#else:\n",
        "statements"
      ]
    },
    {
      "cell_type": "code",
      "metadata": {
        "id": "svDC4r9mXQUZ",
        "colab_type": "code",
        "colab": {}
      },
      "source": [
        ""
      ],
      "execution_count": 0,
      "outputs": []
    },
    {
      "cell_type": "code",
      "metadata": {
        "id": "n3rHWnrZWDmm",
        "colab_type": "code",
        "colab": {
          "base_uri": "https://localhost:8080/",
          "height": 51
        },
        "outputId": "6d9c017a-268d-4339-a683-4b9862c2d1f7"
      },
      "source": [
        "# to check whether a number is even or odd\n",
        "n=int(input(\"Enter a number\"))\n",
        "if n%2 == 0 :\n",
        "  print(n,\"is a even number\")\n",
        "else :\n",
        "  print(n,\"is a odd number\")"
      ],
      "execution_count": 19,
      "outputs": [
        {
          "output_type": "stream",
          "text": [
            "Enter a number9\n",
            "9 is a odd number\n"
          ],
          "name": "stdout"
        }
      ]
    },
    {
      "cell_type": "code",
      "metadata": {
        "id": "wuCXbnRfXSmB",
        "colab_type": "code",
        "colab": {
          "base_uri": "https://localhost:8080/",
          "height": 51
        },
        "outputId": "1b01bd53-b505-4bcf-bd8c-3f3cda8d932c"
      },
      "source": [
        "# To check a number is perfectly multiple of 3 and 5\n",
        "n=int(input(\"Enter a number\"))\n",
        "if n%3 == 0 and n%5 == 0 :\n",
        "  print(n,\"is perfectly multiple of 3 and 5\")\n",
        "else :\n",
        "  print(n,\"is not perfectly multiple of 3 and 5\")"
      ],
      "execution_count": 27,
      "outputs": [
        {
          "output_type": "stream",
          "text": [
            "Enter a number45\n",
            "45 is perfectly multiple of 3 and 5\n"
          ],
          "name": "stdout"
        }
      ]
    },
    {
      "cell_type": "code",
      "metadata": {
        "id": "mBJFPCjlaVQN",
        "colab_type": "code",
        "colab": {
          "base_uri": "https://localhost:8080/",
          "height": 51
        },
        "outputId": "cc49425c-cbc8-4439-8b38-1e5025acbd0d"
      },
      "source": [
        "# to check the number is positive or negative\n",
        "n=int(input(\"enter a number:\"))\n",
        "if n<0 :\n",
        "  print(n,\"is negative number\")\n",
        "elif n==0:\n",
        "  print(\"0 is neither positive or negative\")\n",
        "else:\n",
        "  print(n,\"is positive number\")"
      ],
      "execution_count": 33,
      "outputs": [
        {
          "output_type": "stream",
          "text": [
            "enter a number:-78\n",
            "-78 is negative number\n"
          ],
          "name": "stdout"
        }
      ]
    },
    {
      "cell_type": "code",
      "metadata": {
        "id": "6cXRzfwiaZ8X",
        "colab_type": "code",
        "colab": {
          "base_uri": "https://localhost:8080/",
          "height": 85
        },
        "outputId": "067002bf-a17a-432a-d27f-4092a66bdd2f"
      },
      "source": [
        "#to find the largest of three numbers\n",
        "n=int(input(\"Enter n\"))\n",
        "a=int(input(\"Enter a\"))\n",
        "b=int(input(\"Enter b\"))\n",
        "if n>a and n>b:\n",
        "  print(n,\"is largest of\",a,\"and\",b)\n",
        "elif a>b:\n",
        "  print(a,\"is largest of\",n,\"and\",b)\n",
        "else :\n",
        "  print(b,\"is largest of\",a,\"and\",n)"
      ],
      "execution_count": 31,
      "outputs": [
        {
          "output_type": "stream",
          "text": [
            "Enter n34\n",
            "Enter a35\n",
            "Enter b67\n",
            "67 is largest of 35 and 34\n"
          ],
          "name": "stdout"
        }
      ]
    },
    {
      "cell_type": "code",
      "metadata": {
        "id": "i54HGlqldlrG",
        "colab_type": "code",
        "colab": {
          "base_uri": "https://localhost:8080/",
          "height": 51
        },
        "outputId": "d8c66041-8ead-425d-cbc2-c67842a84c81"
      },
      "source": [
        "#check whether a given year is leap year or not\n",
        "n=int(input(\"Enter a year\"))\n",
        "if(n%4==0):\n",
        "  if(n%100==0):\n",
        "    if(n%400==0):\n",
        "      print(n,\"is a leap year\")\n",
        "    else:\n",
        "      print(n,\"is not a leap year\")\n",
        "  else:\n",
        "    print(n,\"is a leap year\")\n",
        "else :\n",
        "  print(n,\"is not a leap year\")"
      ],
      "execution_count": 34,
      "outputs": [
        {
          "output_type": "stream",
          "text": [
            "Enter a year2000\n",
            "2000 is a leap year\n"
          ],
          "name": "stdout"
        }
      ]
    }
  ]
}