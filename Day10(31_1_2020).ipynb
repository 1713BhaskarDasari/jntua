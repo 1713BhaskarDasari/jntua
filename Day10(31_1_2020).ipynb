{
  "nbformat": 4,
  "nbformat_minor": 0,
  "metadata": {
    "colab": {
      "name": "Day10(31-1-2020).ipynb",
      "provenance": [],
      "authorship_tag": "ABX9TyOze4gYS/h9BcR/XPUq6Lrg",
      "include_colab_link": true
    },
    "kernelspec": {
      "name": "python3",
      "display_name": "Python 3"
    }
  },
  "cells": [
    {
      "cell_type": "markdown",
      "metadata": {
        "id": "view-in-github",
        "colab_type": "text"
      },
      "source": [
        "<a href=\"https://colab.research.google.com/github/1713BhaskarDasari/jntua/blob/master/Day10(31_1_2020).ipynb\" target=\"_parent\"><img src=\"https://colab.research.google.com/assets/colab-badge.svg\" alt=\"Open In Colab\"/></a>"
      ]
    },
    {
      "cell_type": "markdown",
      "metadata": {
        "id": "4zyUJ0zC7zyZ",
        "colab_type": "text"
      },
      "source": [
        "#LOOPS\n",
        "- while\n",
        "- for"
      ]
    },
    {
      "cell_type": "code",
      "metadata": {
        "id": "zCdT-WPN1jTM",
        "colab_type": "code",
        "outputId": "3754e781-99b1-49aa-c46f-69d400b1023b",
        "colab": {
          "base_uri": "https://localhost:8080/",
          "height": 51
        }
      },
      "source": [
        "#to calculate sum of even numbers\n",
        "n=int(input(\"Enter number\"))\n",
        "i=1\n",
        "while i<=n:\n",
        "  print(i,end=\" \")\n",
        "  i=i+1\n",
        "  "
      ],
      "execution_count": 0,
      "outputs": [
        {
          "output_type": "stream",
          "text": [
            "Enter number20\n",
            "1 2 3 4 5 6 7 8 9 10 11 12 13 14 15 16 17 18 19 20 "
          ],
          "name": "stdout"
        }
      ]
    },
    {
      "cell_type": "code",
      "metadata": {
        "id": "-ufp7qax19gP",
        "colab_type": "code",
        "outputId": "ef9431f9-6f1a-4812-b5f3-5b6414b5e70d",
        "colab": {
          "base_uri": "https://localhost:8080/",
          "height": 51
        }
      },
      "source": [
        "n=int(input(\"Enter a number\"))\n",
        "i=1\n",
        "sum=0\n",
        "while i<=n:\n",
        "  if i%2==0:\n",
        "    sum=sum+i\n",
        "    print(sum,end=\" \")\n",
        "  i=i+1\n",
        " "
      ],
      "execution_count": 0,
      "outputs": [
        {
          "output_type": "stream",
          "text": [
            "Enter a number12\n",
            "2 6 12 20 30 42 "
          ],
          "name": "stdout"
        }
      ]
    },
    {
      "cell_type": "code",
      "metadata": {
        "id": "ANpkd7kW2p2z",
        "colab_type": "code",
        "outputId": "1e832133-e75c-4dfa-d184-e720426452d9",
        "colab": {
          "base_uri": "https://localhost:8080/",
          "height": 51
        }
      },
      "source": [
        "#to check it is palindrome or not\n",
        "m=int(input(\"Enter a number\"))\n",
        "i=m\n",
        "k=0\n",
        "b=0\n",
        "while m>0:\n",
        "  k=m%10 #to get single value\n",
        "  b=b*10+k #add to other variable in reverse way\n",
        "  m=m//10 #to get next integer\n",
        "if(b==i):\n",
        "  print(\"It is palindrome\")\n",
        "else:\n",
        "  print(\"It is not a palindrome\")"
      ],
      "execution_count": 0,
      "outputs": [
        {
          "output_type": "stream",
          "text": [
            "Enter a number145\n",
            "It is not a palindrome\n"
          ],
          "name": "stdout"
        }
      ]
    },
    {
      "cell_type": "markdown",
      "metadata": {
        "id": "PEvTlR9Z8_ug",
        "colab_type": "text"
      },
      "source": [
        "#Functional Programming\n",
        "- simple\n",
        "- easy to understand\n",
        "- better reusability\n",
        "- lengthy program is divided into sub programs\n"
      ]
    },
    {
      "cell_type": "code",
      "metadata": {
        "id": "ED47zNO19ryK",
        "colab_type": "code",
        "outputId": "f92ac899-66b9-43bc-f86d-be344e7a35e0",
        "colab": {
          "base_uri": "https://localhost:8080/",
          "height": 34
        }
      },
      "source": [
        " # def nameoffrunction(<parameter>):\n",
        " # statements\n",
        " #  return\n",
        " \n",
        " #print sum of even number\n",
        " #input:1234\n",
        " #output:(2+4)=6\n",
        " def sumofeven(n):\n",
        "   s=0\n",
        "   while n!=0:\n",
        "     r=n%10\n",
        "     if(r%2==0):\n",
        "       s=s+r\n",
        "     n=n//10\n",
        "   return s\n",
        "sumofeven(1234)"
      ],
      "execution_count": 0,
      "outputs": [
        {
          "output_type": "execute_result",
          "data": {
            "text/plain": [
              "6"
            ]
          },
          "metadata": {
            "tags": []
          },
          "execution_count": 29
        }
      ]
    },
    {
      "cell_type": "code",
      "metadata": {
        "id": "-oskUkCR9yGj",
        "colab_type": "code",
        "outputId": "1b5c4f45-986b-49ca-9496-72502ba452dc",
        "colab": {
          "base_uri": "https://localhost:8080/",
          "height": 34
        }
      },
      "source": [
        "#find largest digit in a  number\n",
        "def large(n):\n",
        "  s=0\n",
        "  r=0\n",
        "  while n!=0:\n",
        "    s=r\n",
        "    r=n%10\n",
        "    if(s>r):\n",
        "      r=s\n",
        "    n=n//10\n",
        "  return r\n",
        "large(16783)\n"
      ],
      "execution_count": 0,
      "outputs": [
        {
          "output_type": "execute_result",
          "data": {
            "text/plain": [
              "8"
            ]
          },
          "metadata": {
            "tags": []
          },
          "execution_count": 34
        }
      ]
    },
    {
      "cell_type": "markdown",
      "metadata": {
        "id": "fwugbkVtIeEQ",
        "colab_type": "text"
      },
      "source": [
        "#for loop\n",
        "- syntax\n",
        "\n",
        "  for i in range(start,stop,step):\n",
        "      statements\n",
        "  "
      ]
    },
    {
      "cell_type": "code",
      "metadata": {
        "id": "bZcm8tFkC9xU",
        "colab_type": "code",
        "outputId": "00e53039-a186-4ba1-947e-fcea51b16c4d",
        "colab": {
          "base_uri": "https://localhost:8080/",
          "height": 34
        }
      },
      "source": [
        "#printing the elements between limits\n",
        "def printSeries(f,e):\n",
        "\n",
        "  for i in range(f,e+1,4): # e+1 indicates end is e\n",
        "    print(i,end=\" \")\n",
        "  return\n",
        "printSeries(11,25)  #input\n"
      ],
      "execution_count": 0,
      "outputs": [
        {
          "output_type": "stream",
          "text": [
            "11 15 19 23 "
          ],
          "name": "stdout"
        }
      ]
    },
    {
      "cell_type": "markdown",
      "metadata": {
        "id": "0XBIN6l-M7DM",
        "colab_type": "text"
      },
      "source": [
        "#collection types\n",
        "- list\n",
        "- tuple\n",
        "- dictionary\n",
        "\n",
        "#LIST\n",
        " - one of the data structure in python\n",
        " - data structure means to store,sort and search options\n",
        " - Its common data structure in python,the items of the list are separated by comma with in square braces\n",
        " -LIST is IMMUTABLE(i.e., values can be modified)\n",
        " - Ex : l1=[1,2,3,4,5]\n",
        " - Ex : l2=[\"JNTUA\",\"DASO\",\"ASDS\"]\n",
        " - Ex : l3=[\"JNTYA\",132,120.5]"
      ]
    },
    {
      "cell_type": "code",
      "metadata": {
        "id": "a5hdeZL1MtFA",
        "colab_type": "code",
        "outputId": "e4d88a00-e170-4cc9-83c0-1fb5f91bbea6",
        "colab": {
          "base_uri": "https://localhost:8080/",
          "height": 272
        }
      },
      "source": [
        "\n",
        "l1=[1,8,2,5,4]\n",
        "for i in range(len(l1)):\n",
        "  print(l1[i],end=\" \")\n",
        "print(l1)\n",
        "for i in l1:\n",
        "  print(i)\n",
        "\n",
        "print(l1[3])\n",
        "print(l1[-2])\n",
        "print(l1[2:])\n",
        "print(l1[:4])\n",
        "print(l1[2:4])\n",
        "print(l1[-3:-1])\n",
        "print(l1[::2]) #skips one index\n",
        "l1[2]=\"ramu\"  #updating the list\n",
        "print(l1)\n",
        "del l1[3] #deleting one item\n",
        "print(l1)"
      ],
      "execution_count": 55,
      "outputs": [
        {
          "output_type": "stream",
          "text": [
            "1 8 2 5 4 [1, 8, 2, 5, 4]\n",
            "1\n",
            "8\n",
            "2\n",
            "5\n",
            "4\n",
            "5\n",
            "5\n",
            "[2, 5, 4]\n",
            "[1, 8, 2, 5]\n",
            "[2, 5]\n",
            "[2, 5]\n",
            "[1, 2, 4]\n",
            "[1, 8, 'ramu', 5, 4]\n",
            "[1, 8, 'ramu', 4]\n"
          ],
          "name": "stdout"
        }
      ]
    },
    {
      "cell_type": "code",
      "metadata": {
        "id": "7xbWZSPTdB95",
        "colab_type": "code",
        "colab": {
          "base_uri": "https://localhost:8080/",
          "height": 85
        },
        "outputId": "b33ddd2d-1d7e-412f-ef54-541e07677f7d"
      },
      "source": [
        "#BASIC LIST OPERATIONS\n",
        "li=[1,2,3,4]\n",
        "print(len(li))\n",
        "print(li*2)\n",
        "print(6 in li)\n",
        "print(4 in li)\n"
      ],
      "execution_count": 61,
      "outputs": [
        {
          "output_type": "stream",
          "text": [
            "4\n",
            "[1, 2, 3, 4, 1, 2, 3, 4]\n",
            "False\n",
            "True\n"
          ],
          "name": "stdout"
        }
      ]
    },
    {
      "cell_type": "markdown",
      "metadata": {
        "id": "Oz9Zle4gd087",
        "colab_type": "text"
      },
      "source": [
        "#LIST FUNCTIONS\n",
        "- max\n",
        "- min\n",
        "- sum\n",
        "- append\n",
        "- insert\n",
        "- count\n",
        "- index\n",
        "- sort\n",
        "- pop\n"
      ]
    },
    {
      "cell_type": "code",
      "metadata": {
        "id": "QtqnIuYweGzp",
        "colab_type": "code",
        "colab": {
          "base_uri": "https://localhost:8080/",
          "height": 248
        },
        "outputId": "f2e335d9-a890-452d-c008-a57fcaf42d20"
      },
      "source": [
        "l1=[3,9,8,2,3,8]\n",
        "print(max(l1))\n",
        "print(min(l1))\n",
        "print(sum(l1))\n",
        "print(count(l1))"
      ],
      "execution_count": 68,
      "outputs": [
        {
          "output_type": "stream",
          "text": [
            "9\n",
            "2\n"
          ],
          "name": "stdout"
        },
        {
          "output_type": "error",
          "ename": "TypeError",
          "evalue": "ignored",
          "traceback": [
            "\u001b[0;31m---------------------------------------------------------------------------\u001b[0m",
            "\u001b[0;31mTypeError\u001b[0m                                 Traceback (most recent call last)",
            "\u001b[0;32m<ipython-input-68-2053ceb98b59>\u001b[0m in \u001b[0;36m<module>\u001b[0;34m()\u001b[0m\n\u001b[1;32m      2\u001b[0m \u001b[0mprint\u001b[0m\u001b[0;34m(\u001b[0m\u001b[0mmax\u001b[0m\u001b[0;34m(\u001b[0m\u001b[0ml1\u001b[0m\u001b[0;34m)\u001b[0m\u001b[0;34m)\u001b[0m\u001b[0;34m\u001b[0m\u001b[0;34m\u001b[0m\u001b[0m\n\u001b[1;32m      3\u001b[0m \u001b[0mprint\u001b[0m\u001b[0;34m(\u001b[0m\u001b[0mmin\u001b[0m\u001b[0;34m(\u001b[0m\u001b[0ml1\u001b[0m\u001b[0;34m)\u001b[0m\u001b[0;34m)\u001b[0m\u001b[0;34m\u001b[0m\u001b[0;34m\u001b[0m\u001b[0m\n\u001b[0;32m----> 4\u001b[0;31m \u001b[0mprint\u001b[0m\u001b[0;34m(\u001b[0m\u001b[0msum\u001b[0m\u001b[0;34m(\u001b[0m\u001b[0ml1\u001b[0m\u001b[0;34m)\u001b[0m\u001b[0;34m)\u001b[0m\u001b[0;34m\u001b[0m\u001b[0;34m\u001b[0m\u001b[0m\n\u001b[0m\u001b[1;32m      5\u001b[0m \u001b[0mprint\u001b[0m\u001b[0;34m(\u001b[0m\u001b[0mcount\u001b[0m\u001b[0;34m(\u001b[0m\u001b[0ml1\u001b[0m\u001b[0;34m)\u001b[0m\u001b[0;34m)\u001b[0m\u001b[0;34m\u001b[0m\u001b[0;34m\u001b[0m\u001b[0m\n",
            "\u001b[0;31mTypeError\u001b[0m: 'int' object is not callable"
          ]
        }
      ]
    }
  ]
}