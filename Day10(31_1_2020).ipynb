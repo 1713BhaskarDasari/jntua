{
  "nbformat": 4,
  "nbformat_minor": 0,
  "metadata": {
    "colab": {
      "name": "Day10(31/1/2020).ipynb",
      "provenance": [],
      "authorship_tag": "ABX9TyNHtIPnP4CKM4pHJBODbB2J",
      "include_colab_link": true
    },
    "kernelspec": {
      "name": "python3",
      "display_name": "Python 3"
    }
  },
  "cells": [
    {
      "cell_type": "markdown",
      "metadata": {
        "id": "view-in-github",
        "colab_type": "text"
      },
      "source": [
        "<a href=\"https://colab.research.google.com/github/1713BhaskarDasari/jntua/blob/master/Day10(31_1_2020).ipynb\" target=\"_parent\"><img src=\"https://colab.research.google.com/assets/colab-badge.svg\" alt=\"Open In Colab\"/></a>"
      ]
    },
    {
      "cell_type": "code",
      "metadata": {
        "id": "TwbxNrJ9ft4p",
        "colab_type": "code",
        "colab": {
          "base_uri": "https://localhost:8080/",
          "height": 85
        },
        "outputId": "cd104f93-dfea-49e0-d2d5-f518a9f0f3ec"
      },
      "source": [
        "l1=[3,9,8,2,3,8]\n",
        "print(max(l1))\n",
        "print(min(l1))\n",
        "print(sum(l1))\n",
        "print(sum(l1)/len(l1))\n"
      ],
      "execution_count": 3,
      "outputs": [
        {
          "output_type": "stream",
          "text": [
            "9\n",
            "2\n",
            "33\n",
            "5.5\n"
          ],
          "name": "stdout"
        }
      ]
    },
    {
      "cell_type": "code",
      "metadata": {
        "id": "ti_YJ-GkgQ_r",
        "colab_type": "code",
        "colab": {
          "base_uri": "https://localhost:8080/",
          "height": 51
        },
        "outputId": "7bd57d78-2bac-4e40-e342-d5493b1a3f1f"
      },
      "source": [
        "l1=[2,4,7,5,2,9]\n",
        "#l1.append(4)\n",
        "#l1.insert(2,8)\n",
        "#print(l1.index(4))\n",
        "#print(l1)\n",
        "#l1.sort()\n",
        "#print(l1)\n",
        "#print(l1.index(2))\n",
        "#print(l1.count(4))\n",
        "#l1.pop()\n",
        "print(l1)\n",
        "l1.pop(1)\n",
        "print(l1)"
      ],
      "execution_count": 15,
      "outputs": [
        {
          "output_type": "stream",
          "text": [
            "[2, 4, 7, 5, 2, 9]\n",
            "[2, 7, 5, 2, 9]\n"
          ],
          "name": "stdout"
        }
      ]
    },
    {
      "cell_type": "code",
      "metadata": {
        "id": "LiLIRSmuivJM",
        "colab_type": "code",
        "colab": {
          "base_uri": "https://localhost:8080/",
          "height": 85
        },
        "outputId": "dea0d267-d3b7-4a02-c5b2-72965a643851"
      },
      "source": [
        "#using function find the large number from the list\n",
        "l=[40,53,43,63,24]\n",
        "print(l)\n",
        "l.sort()\n",
        "print(l)\n",
        "def large(l):\n",
        "  l.sort()\n",
        "  return l[-1]\n",
        "print(large(l))\n",
        "def genericLarge(l,n):\n",
        "  l.sort()\n",
        "  return l[-n]\n",
        "print(genericLarge(l,2))"
      ],
      "execution_count": 22,
      "outputs": [
        {
          "output_type": "stream",
          "text": [
            "[40, 53, 43, 63, 24]\n",
            "[24, 40, 43, 53, 63]\n",
            "63\n",
            "53\n"
          ],
          "name": "stdout"
        }
      ]
    },
    {
      "cell_type": "code",
      "metadata": {
        "id": "mNuLaER_k1a3",
        "colab_type": "code",
        "colab": {
          "base_uri": "https://localhost:8080/",
          "height": 51
        },
        "outputId": "94186136-e538-409a-8b55-66191ca68882"
      },
      "source": [
        "#using function find the small and generic small number from the list\n",
        "l=[40,53,43,63,24]\n",
        "def small(l):\n",
        "  l.sort()\n",
        "  return l[0]\n",
        "print(small(l))\n",
        "def genericSmall(l,n):\n",
        "  l.sort()\n",
        "  return l[n-1]\n",
        "print(genericSmall(l,3))"
      ],
      "execution_count": 24,
      "outputs": [
        {
          "output_type": "stream",
          "text": [
            "24\n",
            "43\n"
          ],
          "name": "stdout"
        }
      ]
    },
    {
      "cell_type": "markdown",
      "metadata": {
        "id": "q4-28jgem42s",
        "colab_type": "text"
      },
      "source": [
        "#TUPLES\n",
        "- "
      ]
    }
  ]
}